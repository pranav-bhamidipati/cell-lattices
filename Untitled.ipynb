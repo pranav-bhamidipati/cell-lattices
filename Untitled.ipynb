{
 "cells": [
  {
   "cell_type": "markdown",
   "id": "f579bb88-ba0f-4e05-9cac-704051802ce4",
   "metadata": {},
   "source": [
    "## Cell graph equivalence classes"
   ]
  },
  {
   "cell_type": "code",
   "execution_count": 1,
   "id": "fc3a7dee-1588-4f9c-bded-dd92ecec2a05",
   "metadata": {},
   "outputs": [],
   "source": [
    "import numpy as np"
   ]
  },
  {
   "cell_type": "code",
   "execution_count": 2,
   "id": "2bc94a48-2b64-4f1d-9ba1-167a735a66ae",
   "metadata": {},
   "outputs": [
    {
     "data": {
      "text/plain": [
       "array([[0.11765111, 0.08632098, 0.11350076, 0.75426708],\n",
       "       [0.60127546, 0.19352726, 0.55512124, 0.46165868],\n",
       "       [0.5017866 , 0.48694872, 0.23575883, 0.30900069],\n",
       "       [0.61357044, 0.39897522, 0.70501517, 0.5491055 ]])"
      ]
     },
     "execution_count": 2,
     "metadata": {},
     "output_type": "execute_result"
    }
   ],
   "source": []
  },
  {
   "cell_type": "code",
   "execution_count": null,
   "id": "5b3f978c-345e-4494-bc4e-ff6171756422",
   "metadata": {},
   "outputs": [],
   "source": [
    "import umap\n",
    "import numpy as np\n",
    "import pandas as pd\n",
    "import requests\n",
    "import os\n",
    "import datashader as ds\n",
    "import datashader.utils as utils\n",
    "import datashader.transfer_functions as tf\n",
    "import matplotlib.pyplot as plt\n",
    "import seaborn as sns"
   ]
  },
  {
   "cell_type": "code",
   "execution_count": null,
   "id": "744860f6-91f1-4d3b-b57c-2eec05d1596b",
   "metadata": {},
   "outputs": [],
   "source": [
    "#!/usr/bin/env python\n",
    "# coding: utf-8\n",
    "import os\n",
    "from itertools import combinations\n",
    "import multiprocessing as mp\n",
    "\n",
    "import networkx as nx\n",
    "import cell_lattices as cx\n",
    "\n",
    "import numpy as np\n",
    "import pandas as pd\n",
    "import scipy.special as sp\n",
    "from scipy.spatial import distance as dist\n",
    "from tqdm import tqdm\n",
    "\n",
    "import umap\n",
    "\n",
    "import colorcet as cc\n",
    "import matplotlib.pyplot as plt\n",
    "import seaborn as sns"
   ]
  }
 ],
 "metadata": {
  "kernelspec": {
   "display_name": "cell_lattices",
   "language": "python",
   "name": "cell_lattices"
  },
  "language_info": {
   "codemirror_mode": {
    "name": "ipython",
    "version": 3
   },
   "file_extension": ".py",
   "mimetype": "text/x-python",
   "name": "python",
   "nbconvert_exporter": "python",
   "pygments_lexer": "ipython3",
   "version": "3.9.7"
  }
 },
 "nbformat": 4,
 "nbformat_minor": 5
}
